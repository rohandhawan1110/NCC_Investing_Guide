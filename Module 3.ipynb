{
 "cells": [
  {
   "cell_type": "markdown",
   "metadata": {},
   "source": [
    "# Module-3"
   ]
  },
  {
   "cell_type": "markdown",
   "metadata": {},
   "source": [
    "## Query 3.1\n",
    "Import the file 'gold.csv', which contains the data of the last 2 years price action of Indian (MCX) gold standard. Explore the dataframe. You'd see 2 unique columns - 'Pred' and 'new'. One of the 2 columns is a linear combination of the OHLC prices with varying coefficients while the other is a polynomial function of the same inputs. Also, one of the 2 columns is partially filled. \n",
    "Using linear regression, find the coefficients of the inputs and using the same trained model, complete the entire column.\n",
    "Also, try to fit the other column as well using a new linear regression model. Check if the predictions are accurate. Mention which column is a linear function and which is polynomial."
   ]
  },
  {
   "cell_type": "code",
   "execution_count": 1,
   "metadata": {},
   "outputs": [
    {
     "data": {
      "text/html": [
       "<div>\n",
       "<style scoped>\n",
       "    .dataframe tbody tr th:only-of-type {\n",
       "        vertical-align: middle;\n",
       "    }\n",
       "\n",
       "    .dataframe tbody tr th {\n",
       "        vertical-align: top;\n",
       "    }\n",
       "\n",
       "    .dataframe thead th {\n",
       "        text-align: right;\n",
       "    }\n",
       "</style>\n",
       "<table border=\"1\" class=\"dataframe\">\n",
       "  <thead>\n",
       "    <tr style=\"text-align: right;\">\n",
       "      <th></th>\n",
       "      <th>Price</th>\n",
       "      <th>Open</th>\n",
       "      <th>High</th>\n",
       "      <th>Low</th>\n",
       "      <th>Vol.</th>\n",
       "      <th>Change %</th>\n",
       "      <th>Pred</th>\n",
       "      <th>new</th>\n",
       "    </tr>\n",
       "    <tr>\n",
       "      <th>Date</th>\n",
       "      <th></th>\n",
       "      <th></th>\n",
       "      <th></th>\n",
       "      <th></th>\n",
       "      <th></th>\n",
       "      <th></th>\n",
       "      <th></th>\n",
       "      <th></th>\n",
       "    </tr>\n",
       "  </thead>\n",
       "  <tbody>\n",
       "    <tr>\n",
       "      <th>May 04, 2017</th>\n",
       "      <td>28060</td>\n",
       "      <td>28400</td>\n",
       "      <td>28482</td>\n",
       "      <td>28025</td>\n",
       "      <td>0.08K</td>\n",
       "      <td>-1.79%</td>\n",
       "      <td>738.0</td>\n",
       "      <td>117.570740</td>\n",
       "    </tr>\n",
       "    <tr>\n",
       "      <th>May 05, 2017</th>\n",
       "      <td>28184</td>\n",
       "      <td>28136</td>\n",
       "      <td>28382</td>\n",
       "      <td>28135</td>\n",
       "      <td>0.06K</td>\n",
       "      <td>0.44%</td>\n",
       "      <td>-146.0</td>\n",
       "      <td>295.430176</td>\n",
       "    </tr>\n",
       "    <tr>\n",
       "      <th>May 08, 2017</th>\n",
       "      <td>28119</td>\n",
       "      <td>28145</td>\n",
       "      <td>28255</td>\n",
       "      <td>28097</td>\n",
       "      <td>7.85K</td>\n",
       "      <td>-0.23%</td>\n",
       "      <td>30.0</td>\n",
       "      <td>132.123714</td>\n",
       "    </tr>\n",
       "    <tr>\n",
       "      <th>May 09, 2017</th>\n",
       "      <td>27981</td>\n",
       "      <td>28125</td>\n",
       "      <td>28192</td>\n",
       "      <td>27947</td>\n",
       "      <td>10.10K</td>\n",
       "      <td>-0.49%</td>\n",
       "      <td>357.0</td>\n",
       "      <td>101.298064</td>\n",
       "    </tr>\n",
       "    <tr>\n",
       "      <th>May 10, 2017</th>\n",
       "      <td>28007</td>\n",
       "      <td>28060</td>\n",
       "      <td>28146</td>\n",
       "      <td>27981</td>\n",
       "      <td>9.28K</td>\n",
       "      <td>0.09%</td>\n",
       "      <td>124.0</td>\n",
       "      <td>112.153318</td>\n",
       "    </tr>\n",
       "  </tbody>\n",
       "</table>\n",
       "</div>"
      ],
      "text/plain": [
       "              Price   Open   High    Low    Vol. Change %   Pred         new\n",
       "Date                                                                        \n",
       "May 04, 2017  28060  28400  28482  28025   0.08K   -1.79%  738.0  117.570740\n",
       "May 05, 2017  28184  28136  28382  28135   0.06K    0.44% -146.0  295.430176\n",
       "May 08, 2017  28119  28145  28255  28097   7.85K   -0.23%   30.0  132.123714\n",
       "May 09, 2017  27981  28125  28192  27947  10.10K   -0.49%  357.0  101.298064\n",
       "May 10, 2017  28007  28060  28146  27981   9.28K    0.09%  124.0  112.153318"
      ]
     },
     "execution_count": 1,
     "metadata": {},
     "output_type": "execute_result"
    }
   ],
   "source": [
    "import pandas as pd\n",
    "import numpy as np\n",
    "from matplotlib import pyplot as plt\n",
    "import seaborn as sns\n",
    "plt.style.use(\"grayscale\")\n",
    "from sklearn.linear_model import LinearRegression\n",
    "from sklearn.model_selection import train_test_split\n",
    "from sklearn.metrics import r2_score\n",
    "import warnings\n",
    "warnings.filterwarnings(\"ignore\")\n",
    "\n",
    "df=pd.read_csv(\"gold.csv\")\n",
    "\n",
    "df.set_index(\"Date\", inplace=True)\n",
    "df.head()"
   ]
  },
  {
   "cell_type": "code",
   "execution_count": 2,
   "metadata": {},
   "outputs": [],
   "source": [
    "df1=df.dropna(axis=0)\n",
    "\n",
    "x=[]\n",
    "y=[]\n",
    "for i in range(df1.shape[0]):\n",
    "    a=df1[\"Open\"][i]\n",
    "    b=df1[\"High\"][i]\n",
    "    c=df1[\"Low\"][i]\n",
    "    d=df1[\"Price\"][i]\n",
    "    x.append([a,b,c,d])\n",
    "    y.append(df1[\"Pred\"][i])\n",
    "\n",
    "LR=LinearRegression()\n",
    "\n",
    "LR.fit(x,y)\n",
    "LR.coef_\n",
    "\n",
    "j=df.shape[0]-df1.shape[0]\n",
    "for i in range(j):\n",
    "    k=df1.shape[0]+i\n",
    "    z=[]\n",
    "    a=df[\"Open\"][k]\n",
    "    b=df[\"High\"][k]\n",
    "    c=df[\"Low\"][k]\n",
    "    d=df[\"Price\"][k]\n",
    "    z.append([a,b,c,d])\n",
    "    df[\"Pred\"][k]=LR.predict(z)"
   ]
  },
  {
   "cell_type": "code",
   "execution_count": 3,
   "metadata": {},
   "outputs": [
    {
     "name": "stdout",
     "output_type": "stream",
     "text": [
      "Accuracy= -69.49569639252199\n"
     ]
    }
   ],
   "source": [
    "x=[]\n",
    "y=[]\n",
    "for i in range(df.shape[0]):\n",
    "    a=df[\"Open\"][i]\n",
    "    b=df[\"High\"][i]\n",
    "    c=df[\"Low\"][i]\n",
    "    d=df[\"Price\"][i]\n",
    "    x.append([a,b,c,d])\n",
    "    y.append(df[\"new\"])\n",
    "x_train, x_test, y_train, y_test=train_test_split(x, y, test_size=1/3, random_state=1)\n",
    "LR.fit(x_train, y_train)\n",
    "y_pred=LR.predict(x_test)\n",
    "accuracy=r2_score(y_test, y_pred)\n",
    "print(\"Accuracy=\",accuracy)"
   ]
  },
  {
   "cell_type": "code",
   "execution_count": 4,
   "metadata": {},
   "outputs": [
    {
     "data": {
      "image/png": "[encoded data removed]",
      "text/plain": [
       "<Figure size 640x480 with 1 Axes>"
      ]
     },
     "metadata": {},
     "output_type": "display_data"
    }
   ],
   "source": [
    "plt.hist(df[\"Pred\"])\n",
    "plt.show()"
   ]
  },
  {
   "cell_type": "code",
   "execution_count": 5,
   "metadata": {},
   "outputs": [
    {
     "data": {
      "image/png": "[encoded data removed]",
      "text/plain": [
       "<Figure size 640x480 with 1 Axes>"
      ]
     },
     "metadata": {},
     "output_type": "display_data"
    }
   ],
   "source": [
    "sns.distplot(df[\"Pred\"])\n",
    "plt.show()"
   ]
  },
  {
   "cell_type": "markdown",
   "metadata": {},
   "source": [
    "### Explaination:\n",
    "Column \"Pred\" is the Linear function while column \"new\" is the polynomial."
   ]
  },
  {
   "cell_type": "markdown",
   "metadata": {},
   "source": [
    "## Query 3.2\n",
    "Import the stock of your choosing AND the Nifty index. \n",
    "Using linear regression ,calculate - \n",
    "\n",
    "The daily Beta value for the past 3 months. (Daily= Daily returns)\n",
    "\n",
    "The monthly Beta value. (Monthly= Monthly returns)"
   ]
  },
  {
   "cell_type": "code",
   "execution_count": 6,
   "metadata": {},
   "outputs": [
    {
     "name": "stdout",
     "output_type": "stream",
     "text": [
      "The daily Beta value for the past 3 months= [[1.54215028]]\n"
     ]
    }
   ],
   "source": [
    "df2=pd.read_csv(\"NCC.csv\")\n",
    "df3=pd.read_csv(\"Nifty50.csv\")\n",
    "\n",
    "df2[\"pct change\"]=df2[\"Close Price\"].pct_change()*100\n",
    "df3[\"pct change\"]=df3[\"Close\"].pct_change()*100\n",
    "\n",
    "ncc_pct_change=np.array(df2[\"pct change\"].tail(63)).reshape(-1,1)\n",
    "nifty50_pct_change=np.array(df3[\"pct change\"].tail(63)).reshape(-1,1)\n",
    "\n",
    "LR.fit(nifty50_pct_change, ncc_pct_change)\n",
    "\n",
    "print(\"The daily Beta value for the past 3 months=\",LR.coef_)"
   ]
  },
  {
   "cell_type": "code",
   "execution_count": 7,
   "metadata": {},
   "outputs": [
    {
     "name": "stdout",
     "output_type": "stream",
     "text": [
      "The monthly Beta value= [[1.93969169]]\n"
     ]
    }
   ],
   "source": [
    "df2[\"Date\"]=pd.to_datetime(df2[\"Date\"], format='%d-%b-%Y')\n",
    "df2[\"Month\"]=df2[\"Date\"].dt.month\n",
    "df2[\"Year\"]=df2[\"Date\"].dt.year\n",
    "df4=df2[[\"Month\",\"Year\",\"Close Price\"]].groupby([\"Month\",\"Year\"]).tail(1)\n",
    "\n",
    "df4[\"pct change\"]=df4[\"Close Price\"].pct_change()*100\n",
    "df4=df4.dropna(axis=0)\n",
    "\n",
    "df3[\"Date\"]=pd.to_datetime(df3[\"Date\"], format='%d-%b-%Y')\n",
    "df3[\"Month\"]=df3[\"Date\"].dt.month\n",
    "df3[\"Year\"]=df3[\"Date\"].dt.year\n",
    "df5=df3[[\"Month\",\"Year\",\"Close\"]].groupby([\"Month\",\"Year\"]).tail(1)\n",
    "\n",
    "df5[\"pct change\"]=df5[\"Close\"].pct_change()*100\n",
    "df5=df5.dropna(axis=0)\n",
    "\n",
    "ncc_pct_change=np.array(df4[\"pct change\"]).reshape(-1,1)\n",
    "nifty50_pct_change=np.array(df5[\"pct change\"]).reshape(-1,1)\n",
    "\n",
    "LR.fit(nifty50_pct_change, ncc_pct_change)\n",
    "\n",
    "print(\"The monthly Beta value=\", LR.coef_)"
   ]
  },
  {
   "cell_type": "markdown",
   "metadata": {},
   "source": [
    "### Explaination:\n",
    "Daily beta value for the past 3 motnhs for the stock NCC is 1.54215028 which is more than 1 and hence it is more volatile than the benchmark.\n",
    "\n",
    "\n",
    "The monthly beta value for the stock NCC is 1.93969169 which is more than 1 and hence it is more volatile than the benchmark."
   ]
  }
 ],
 "metadata": {
  "kernelspec": {
   "display_name": "Python 3 (ipykernel)",
   "language": "python",
   "name": "python3"
  },
  "language_info": {
   "codemirror_mode": {
    "name": "ipython",
    "version": 3
   },
   "file_extension": ".py",
   "mimetype": "text/x-python",
   "name": "python",
   "nbconvert_exporter": "python",
   "pygments_lexer": "ipython3",
   "version": "3.11.4"
  }
 },
 "nbformat": 4,
 "nbformat_minor": 4
}
